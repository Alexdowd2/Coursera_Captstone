{
    "cells": [
        {
            "metadata": {
                "collapsed": true
            },
            "cell_type": "markdown",
            "source": "## Coursera Captstone: Battle of the Neighborhoods"
        },
        {
            "metadata": {},
            "cell_type": "markdown",
            "source": "### Introduction\n#### The CEO of Globo Gym, John Smith, would like to open a new gym location in Washington DC. "
        },
        {
            "metadata": {},
            "cell_type": "markdown",
            "source": "### Problem Statement\n#### Mr. Smith does not want to open a gym in a location that is within 500 meters of another gym, and he wants a location that has at least 2 dining options within 100 meters of his location so that his clientele has somewhere to eat. DC is generally ranked as one of the \"healthiest\" cities in America, Mr. Smith will need all of the data I can leverage to ensure his business has the best chance of being successful. "
        },
        {
            "metadata": {},
            "cell_type": "markdown",
            "source": "### Data to be used\n#### I will leverage Foursquare API to provide a list of areas for Mr. Smith to consider for his gym, based on his criteria. I will also be using a data source of Washington DC neighborhoods from the web (Open Data DC). The DC Ward data csv is available on GitHub at: https://github.com/Alexdowd2/Coursera_Captstone"
        },
        {
            "metadata": {},
            "cell_type": "code",
            "source": "",
            "execution_count": null,
            "outputs": []
        }
    ],
    "metadata": {
        "kernelspec": {
            "name": "python3",
            "display_name": "Python 3.6",
            "language": "python"
        },
        "language_info": {
            "name": "python",
            "version": "3.6.9",
            "mimetype": "text/x-python",
            "codemirror_mode": {
                "name": "ipython",
                "version": 3
            },
            "pygments_lexer": "ipython3",
            "nbconvert_exporter": "python",
            "file_extension": ".py"
        }
    },
    "nbformat": 4,
    "nbformat_minor": 1
}